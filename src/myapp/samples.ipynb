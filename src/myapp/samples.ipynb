{
 "cells": [
  {
   "cell_type": "markdown",
   "metadata": {},
   "source": [
    "# How to set the name property of mock correctly"
   ]
  },
  {
   "cell_type": "code",
   "execution_count": 1,
   "metadata": {},
   "outputs": [
    {
     "name": "stdout",
     "output_type": "stream",
     "text": [
      "60.0 170\n",
      "<MagicMock name='Taro.name' id='139807704848272'>\n"
     ]
    }
   ],
   "source": [
    "# How to use correctly use the name attribute of unittest.mock\n",
    "# This is an example of bad way to name the mock\n",
    "from unittest.mock import MagicMock\n",
    " \n",
    "me = MagicMock(name='Taro', weight=60.0, height=170)\n",
    "print(me.weight, me.height)\n",
    "print(me.name)  # here, we would expect 'Taro' to be the return value, but it does not happen."
   ]
  },
  {
   "cell_type": "markdown",
   "metadata": {},
   "source": [
    "This happens because the mock is one of the properties of Mock, as in the explanation in [the doces](https://docs.python.org/3/library/unittest.mock.html#unittest.mock.Mock)\n",
    "```\n",
    "name: If the mock has a name then it will be used in the repr of the mock. This can be useful for debugging. The name is propagated to child mocks.\n",
    "```"
   ]
  },
  {
   "cell_type": "code",
   "execution_count": 2,
   "metadata": {},
   "outputs": [
    {
     "name": "stdout",
     "output_type": "stream",
     "text": [
      "60.0 170\n",
      "Taro\n"
     ]
    }
   ],
   "source": [
    "# This is an example of simple way to name the mock\n",
    "from unittest.mock import MagicMock\n",
    " \n",
    "me = MagicMock(weight=60.0, height=170)\n",
    "me.name='Taro'  # simply name it afterwards\n",
    "print(me.weight, me.height)\n",
    "print(me.name)"
   ]
  },
  {
   "cell_type": "code",
   "execution_count": null,
   "metadata": {},
   "outputs": [],
   "source": []
  }
 ],
 "metadata": {
  "kernelspec": {
   "display_name": "Python 3",
   "language": "python",
   "name": "python3"
  },
  "language_info": {
   "codemirror_mode": {
    "name": "ipython",
    "version": 3
   },
   "file_extension": ".py",
   "mimetype": "text/x-python",
   "name": "python",
   "nbconvert_exporter": "python",
   "pygments_lexer": "ipython3",
   "version": "3.7.5"
  }
 },
 "nbformat": 4,
 "nbformat_minor": 4
}
